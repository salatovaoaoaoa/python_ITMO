{
 "cells": [
  {
   "cell_type": "code",
   "execution_count": 1,
   "metadata": {},
   "outputs": [],
   "source": [
    "class Chocolate:\n",
    "    def __init__(self, price: float, filler: str = None):\n",
    "        if price <= 0:\n",
    "            raise ValueError('Цена батончика должна быть положительным значением')\n",
    "        self.price = price\n",
    "        self.filler = filler\n",
    "        \n",
    "    def show_my_chocolate(self):\n",
    "        if self.filler:\n",
    "            print(f'Шоколадный батончик, добавка: {self.filler}')\n",
    "        else:\n",
    "            print('Обычный шоколадный батончик')\n",
    "    \n",
    "    def __str__(self) -> str:\n",
    "        return f'Шоколадный батончик, {self.price} рублей'"
   ]
  },
  {
   "cell_type": "markdown",
   "metadata": {},
   "source": [
    "Примеры реализации класса"
   ]
  },
  {
   "cell_type": "code",
   "execution_count": 2,
   "metadata": {},
   "outputs": [
    {
     "name": "stdout",
     "output_type": "stream",
     "text": [
      "Шоколадный батончик, 26 рублей\n",
      "Шоколадный батончик, 26 рублей\n",
      "Шоколадный батончик, добавка: нуга\n",
      "Обычный шоколадный батончик\n"
     ]
    }
   ],
   "source": [
    "example1 = Chocolate(26)\n",
    "print(example1)\n",
    "\n",
    "example2 = Chocolate(26, 'нуга')\n",
    "print(example2)\n",
    "\n",
    "example5 = Chocolate(10, 'нуга').show_my_chocolate()\n",
    "\n",
    "example6 = Chocolate(10).show_my_chocolate()"
   ]
  },
  {
   "cell_type": "code",
   "execution_count": 3,
   "metadata": {},
   "outputs": [
    {
     "ename": "ValueError",
     "evalue": "Цена батончика должна быть положительным значением",
     "output_type": "error",
     "traceback": [
      "\u001b[0;31m---------------------------------------------------------------------------\u001b[0m",
      "\u001b[0;31mValueError\u001b[0m                                Traceback (most recent call last)",
      "Cell \u001b[0;32mIn[3], line 1\u001b[0m\n\u001b[0;32m----> 1\u001b[0m example3 \u001b[38;5;241m=\u001b[39m \u001b[43mChocolate\u001b[49m\u001b[43m(\u001b[49m\u001b[38;5;241;43m-\u001b[39;49m\u001b[38;5;241;43m26\u001b[39;49m\u001b[43m,\u001b[49m\u001b[43m \u001b[49m\u001b[38;5;124;43m'\u001b[39;49m\u001b[38;5;124;43mнуга\u001b[39;49m\u001b[38;5;124;43m'\u001b[39;49m\u001b[43m)\u001b[49m\n\u001b[1;32m      2\u001b[0m \u001b[38;5;28mprint\u001b[39m(example3)\n\u001b[1;32m      4\u001b[0m example4 \u001b[38;5;241m=\u001b[39m Chocolate(\u001b[38;5;241m0\u001b[39m, \u001b[38;5;124m'\u001b[39m\u001b[38;5;124mнуга\u001b[39m\u001b[38;5;124m'\u001b[39m)\n",
      "Cell \u001b[0;32mIn[1], line 4\u001b[0m, in \u001b[0;36mChocolate.__init__\u001b[0;34m(self, price, filler)\u001b[0m\n\u001b[1;32m      2\u001b[0m \u001b[38;5;28;01mdef\u001b[39;00m \u001b[38;5;21m__init__\u001b[39m(\u001b[38;5;28mself\u001b[39m, price: \u001b[38;5;28mfloat\u001b[39m, filler: \u001b[38;5;28mstr\u001b[39m \u001b[38;5;241m=\u001b[39m \u001b[38;5;28;01mNone\u001b[39;00m):\n\u001b[1;32m      3\u001b[0m     \u001b[38;5;28;01mif\u001b[39;00m price \u001b[38;5;241m<\u001b[39m\u001b[38;5;241m=\u001b[39m \u001b[38;5;241m0\u001b[39m:\n\u001b[0;32m----> 4\u001b[0m         \u001b[38;5;28;01mraise\u001b[39;00m \u001b[38;5;167;01mValueError\u001b[39;00m(\u001b[38;5;124m'\u001b[39m\u001b[38;5;124mЦена батончика должна быть положительным значением\u001b[39m\u001b[38;5;124m'\u001b[39m)\n\u001b[1;32m      5\u001b[0m     \u001b[38;5;28mself\u001b[39m\u001b[38;5;241m.\u001b[39mprice \u001b[38;5;241m=\u001b[39m price\n\u001b[1;32m      6\u001b[0m     \u001b[38;5;28mself\u001b[39m\u001b[38;5;241m.\u001b[39mfiller \u001b[38;5;241m=\u001b[39m filler\n",
      "\u001b[0;31mValueError\u001b[0m: Цена батончика должна быть положительным значением"
     ]
    }
   ],
   "source": [
    "example3 = Chocolate(-26, 'нуга')\n",
    "print(example3)\n",
    "\n",
    "example4 = Chocolate(0, 'нуга')\n",
    "print(example4)"
   ]
  }
 ],
 "metadata": {
  "kernelspec": {
   "display_name": "Python 3",
   "language": "python",
   "name": "python3"
  },
  "language_info": {
   "codemirror_mode": {
    "name": "ipython",
    "version": 3
   },
   "file_extension": ".py",
   "mimetype": "text/x-python",
   "name": "python",
   "nbconvert_exporter": "python",
   "pygments_lexer": "ipython3",
   "version": "3.9.6"
  }
 },
 "nbformat": 4,
 "nbformat_minor": 2
}
