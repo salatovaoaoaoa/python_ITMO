{
 "cells": [
  {
   "cell_type": "code",
   "execution_count": 3,
   "metadata": {},
   "outputs": [
    {
     "name": "stdout",
     "output_type": "stream",
     "text": [
      "Writing test.txt\n"
     ]
    }
   ],
   "source": [
    "class Chocolate:\n",
    "    def __init__(self, price: float, filler: str = None):\n",
    "        if price <= 0:\n",
    "            raise ValueError('Цена батончика должна быть положительным значением')\n",
    "        self.price = price\n",
    "        self.filler = filler\n",
    "        \n",
    "    def show_my_chocolate(self):\n",
    "        if self.filler:\n",
    "            print(f'Шоколадный батончик, добавка: {self.filler}')\n",
    "        else:\n",
    "            print('Обычный шоколадный батончик')\n",
    "    \n",
    "    def __str__(self) -> str:\n",
    "        return f'Шоколадный батончик, {self.price} рублей'"
   ]
  },
  {
   "cell_type": "code",
   "execution_count": null,
   "metadata": {},
   "outputs": [],
   "source": [
    "example1 = Chocolate(26)\n",
    "print(example1)\n",
    "\n",
    "example2 = Chocolate(26, 'нуга')\n",
    "print(example2)\n",
    "\n",
    "example5 = Chocolate(10, 'нуга').show_my_chocolate()\n",
    "\n",
    "example6 = Chocolate(10).show_my_chocolate()"
   ]
  },
  {
   "cell_type": "code",
   "execution_count": null,
   "metadata": {},
   "outputs": [],
   "source": [
    "example3 = Chocolate(-26, 'нуга')\n",
    "print(example3)\n",
    "\n",
    "example4 = Chocolate(0, 'нуга')\n",
    "print(example4)"
   ]
  }
 ],
 "metadata": {
  "kernelspec": {
   "display_name": "Python 3",
   "language": "python",
   "name": "python3"
  },
  "language_info": {
   "codemirror_mode": {
    "name": "ipython",
    "version": 3
   },
   "file_extension": ".py",
   "mimetype": "text/x-python",
   "name": "python",
   "nbconvert_exporter": "python",
   "pygments_lexer": "ipython3",
   "version": "3.9.6"
  }
 },
 "nbformat": 4,
 "nbformat_minor": 2
}
